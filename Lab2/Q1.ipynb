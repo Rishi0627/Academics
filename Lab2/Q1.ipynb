{
 "cells": [
  {
   "cell_type": "code",
   "execution_count": 1,
   "id": "aa714259",
   "metadata": {},
   "outputs": [],
   "source": [
    "import numpy as np\n",
    "import matplotlib.pyplot as plt\n"
   ]
  },
  {
   "cell_type": "code",
   "execution_count": 2,
   "id": "8266f978",
   "metadata": {},
   "outputs": [],
   "source": [
    "\n",
    "x_values = np.array([0,1,2,3,1,1.5])\n",
    "y_values = np.array([1,2,1.5,2,1,2])\n",
    "n = len(x_values)  # Number of data points\n",
    "\n",
    "\n",
    "# Calculate the sums of powers of x\n",
    "sum_x4 = np.sum(x_values**4)\n",
    "sum_x3 = np.sum(x_values**3)\n",
    "sum_x2 = np.sum(x_values**2)\n",
    "sum_x = np.sum(x_values)\n",
    "sum_1 = n\n",
    "\n",
    "\n",
    "#construct a matrix\n",
    "matrix_1 = np.array([[sum_x4, sum_x3, sum_x2],\n",
    "                     [sum_x3, sum_x2, sum_x],\n",
    "                     [sum_x2, sum_x, sum_1]])"
   ]
  },
  {
   "cell_type": "code",
   "execution_count": 3,
   "id": "d9215651",
   "metadata": {},
   "outputs": [],
   "source": [
    "# Calculate the sums of products of terms\n",
    "sum_x2y = np.sum(x_values**2 * y_values)\n",
    "sum_xy = np.sum(x_values * y_values)\n",
    "sum_y = np.sum(y_values)\n",
    "\n",
    "# Construct the matrix\n",
    "matrix_2 = np.array([[sum_x2y],\n",
    "                   [sum_xy],\n",
    "                   [sum_y]])"
   ]
  },
  {
   "cell_type": "code",
   "execution_count": 4,
   "id": "7d4ee567",
   "metadata": {},
   "outputs": [
    {
     "name": "stdout",
     "output_type": "stream",
     "text": [
      "SSE: 0.7027192982456141\n"
     ]
    }
   ],
   "source": [
    "\n",
    "\n",
    "\n",
    "# Function to calculate SSE\n",
    "def calculate_sse(alpha0, alpha1, alpha2):\n",
    "    Y_pred = alpha0 + alpha1 * x_values + alpha2 * x_values**2\n",
    "    squared_errors = (y_values - Y_pred)**2\n",
    "    sse = np.sum(squared_errors)\n",
    "    return sse\n",
    "\n",
    "# Calculate the coefficients using matrix equation\n",
    "coefficients = np.linalg.inv(matrix_1) @ matrix_2\n",
    "\n",
    "alpha2,alpha1,alpha0 = coefficients\n",
    "\n",
    "sse = calculate_sse(alpha0, alpha1, alpha2)\n",
    "print(\"SSE:\", sse)\n"
   ]
  },
  {
   "cell_type": "code",
   "execution_count": 5,
   "id": "d1b9c3ed",
   "metadata": {},
   "outputs": [
    {
     "name": "stdout",
     "output_type": "stream",
     "text": [
      "Optimal alpha0: [1.02824561]\n",
      "Optimal alpha1: [0.58052632]\n",
      "Optimal alpha2: [-0.09298246]\n"
     ]
    }
   ],
   "source": [
    "print(\"Optimal alpha0:\", alpha0)\n",
    "print(\"Optimal alpha1:\", alpha1)\n",
    "print(\"Optimal alpha2:\", alpha2)"
   ]
  },
  {
   "cell_type": "code",
   "execution_count": null,
   "id": "bf53ed24",
   "metadata": {},
   "outputs": [],
   "source": []
  }
 ],
 "metadata": {
  "kernelspec": {
   "display_name": "Python 3 (ipykernel)",
   "language": "python",
   "name": "python3"
  },
  "language_info": {
   "codemirror_mode": {
    "name": "ipython",
    "version": 3
   },
   "file_extension": ".py",
   "mimetype": "text/x-python",
   "name": "python",
   "nbconvert_exporter": "python",
   "pygments_lexer": "ipython3",
   "version": "3.11.4"
  }
 },
 "nbformat": 4,
 "nbformat_minor": 5
}
